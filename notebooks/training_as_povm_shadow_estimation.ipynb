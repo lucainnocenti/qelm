{
 "cells": [
  {
   "cell_type": "code",
   "execution_count": 1,
   "id": "098fde99",
   "metadata": {},
   "outputs": [],
   "source": [
    "%reload_ext autoreload\n",
    "%autoreload 2\n",
    "from IPython.display import Math\n",
    "from tqdm import tqdm\n",
    "import sys\n",
    "import os\n",
    "parent_path = os.path.abspath(\"..\")\n",
    "if parent_path not in sys.path:\n",
    "    sys.path.append(parent_path)\n",
    "\n",
    "# For a quick config:\n",
    "# import logging\n",
    "# logging.basicConfig(\n",
    "#     format=\"%(asctime)s [%(levelname)s] [%(name)s]: %(message)s\",\n",
    "#     level=logging.DEBUG\n",
    "# )\n",
    "\n",
    "import matplotlib\n",
    "import matplotlib.pyplot as plt\n",
    "import seaborn as sns\n",
    "import pandas as pd\n",
    "\n",
    "import sympy\n",
    "import numpy as np\n",
    "import numpy.typing as npt\n",
    "import typing\n",
    "from typing import Callable, Dict, List, Optional, Tuple, Union, Iterable\n",
    "import qutip # type: ignore\n",
    "\n",
    "from src.quantum_utils import measure_povm, sic_povm, mub_povm, random_rank1_povm\n",
    "from src.qelm_utils import analyze_biasvar_vs_nstates, analyze_biasvar_vs_statistics\n",
    "\n",
    "from src.shadow_tomography import frame_operator\n",
    "from src.utils import pp_matrix\n",
    "from src import QELM\n",
    "\n",
    "def make_cube_states():\n",
    "    # compute the vertices of a unit cube\n",
    "    vertices = np.array([[x, y, z] for x in [-1, 1] for y in [-1, 1] for z in [-1, 1]], dtype=float)\n",
    "    # normalize the vertices to lie on the unit sphere\n",
    "    vertices /= np.linalg.norm(vertices, axis=1)[:, np.newaxis]\n",
    "    # for each vector in vertices, compute the density matrix (I + v\\cdot\\sigma)/2\n",
    "    sigma_matrices = [qutip.sigmax(), qutip.sigmay(), qutip.sigmaz()]\n",
    "    cube_states = []\n",
    "    for v in vertices:\n",
    "        sigma_v = sum(v[i] * sigma_matrices[i] for i in range(3))\n",
    "        dm = (qutip.qeye(2) + sigma_v) / 2\n",
    "        cube_states.append(dm)\n",
    "    return cube_states\n",
    "cube_states = make_cube_states()\n",
    "sic_states = [2 * effect for effect in sic_povm()]\n",
    "mub_states = [3 * effect for effect in mub_povm()]"
   ]
  },
  {
   "cell_type": "code",
   "execution_count": null,
   "id": "95e84ef7",
   "metadata": {},
   "outputs": [
    {
     "name": "stdout",
     "output_type": "stream",
     "text": [
      "1.59 s ± 9 ms per loop (mean ± std. dev. of 7 runs, 1 loop each)\n"
     ]
    }
   ],
   "source": [
    "%%timeit\n",
    "random_states_qutip = [qutip.rand_ket(2) for _ in range(10000)]"
   ]
  },
  {
   "cell_type": "code",
   "execution_count": 3,
   "id": "399cf576",
   "metadata": {},
   "outputs": [],
   "source": [
    "def gaussian_random_single_qubit_states(num_states):\n",
    "    \"\"\"\n",
    "    Generate 'num_states' Haar-random single-qubit pure states\n",
    "    via normalized complex Gaussian vectors.\n",
    "    Returns a (num_states, 2) array of complex amplitudes.\n",
    "    \"\"\"\n",
    "    # Draw random complex vectors: real and imaginary parts ~ N(0,1)\n",
    "    psi = np.random.randn(num_states, 2) + 1j * np.random.randn(num_states, 2)\n",
    "    # Normalize each row\n",
    "    norms = np.linalg.norm(psi, axis=1, keepdims=True)\n",
    "    psi /= norms\n",
    "    return psi"
   ]
  },
  {
   "cell_type": "code",
   "execution_count": 5,
   "id": "70eff2ca",
   "metadata": {},
   "outputs": [
    {
     "name": "stdout",
     "output_type": "stream",
     "text": [
      "803 μs ± 3.62 μs per loop (mean ± std. dev. of 7 runs, 1,000 loops each)\n"
     ]
    }
   ],
   "source": [
    "%%timeit\n",
    "random_states_qutip = gaussian_random_single_qubit_states(10000)"
   ]
  },
  {
   "cell_type": "code",
   "execution_count": null,
   "id": "53bd22da",
   "metadata": {},
   "outputs": [
    {
     "data": {
      "text/plain": [
       "array([23.86, 24.71, 24.28, 27.15])"
      ]
     },
     "execution_count": 14,
     "metadata": {},
     "output_type": "execute_result"
    }
   ],
   "source": [
    "statistics = 100\n",
    "random_states = [qutip.rand_ket(2) for _ in range(100)]\n",
    "povm = sic_povm()\n",
    "\n",
    "measure_povm(states=random_states, povm=povm, statistics=statistics, return_frequencies=True).sum(axis=1)"
   ]
  },
  {
   "cell_type": "code",
   "execution_count": 25,
   "id": "fa02c44f",
   "metadata": {},
   "outputs": [
    {
     "name": "stdout",
     "output_type": "stream",
     "text": [
      "[0.0596 0.1406 0.1436 0.2341 0.049  0.0785 0.0359 0.0501 0.0455 0.1631]\n"
     ]
    },
    {
     "data": {
      "text/plain": [
       "[0.0585, 0.137, 0.1285, 0.2415, 0.055, 0.086, 0.036, 0.0525, 0.044, 0.1605]"
      ]
     },
     "execution_count": 25,
     "metadata": {},
     "output_type": "execute_result"
    }
   ],
   "source": [
    "statistics = 100\n",
    "random_states = [qutip.rand_ket(2) for _ in range(100)]\n",
    "povm = random_rank1_povm(dim=2, num_outcomes=10)\n",
    "\n",
    "print(measure_povm(states=random_states, povm=povm, statistics=statistics, return_frequencies=True).sum(axis=1) / statistics)\n",
    "[round(np.trace(effect.full()).real, 3) / 2 for effect in povm]"
   ]
  },
  {
   "cell_type": "markdown",
   "id": "6ca1f3a0",
   "metadata": {},
   "source": [
    "$1+\\frac12$"
   ]
  }
 ],
 "metadata": {
  "kernelspec": {
   "display_name": "base",
   "language": "python",
   "name": "python3"
  },
  "language_info": {
   "codemirror_mode": {
    "name": "ipython",
    "version": 3
   },
   "file_extension": ".py",
   "mimetype": "text/x-python",
   "name": "python",
   "nbconvert_exporter": "python",
   "pygments_lexer": "ipython3",
   "version": "3.12.7"
  }
 },
 "nbformat": 4,
 "nbformat_minor": 5
}
